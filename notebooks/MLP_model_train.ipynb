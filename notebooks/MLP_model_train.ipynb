{
 "cells": [
  {
   "cell_type": "markdown",
   "id": "9a8a07a5",
   "metadata": {},
   "source": [
    "# MLP Model — Emission Point Classification\n",
    "\n",
    "This notebook develops a Multilayer Perceptron (MLP) model to classify the point of particle emission (E1, E2, E3) based on aggregated features from simulated sensor data. The dataset used is aggregated_dataset.csv, where each row represents a simulation with statistical summaries of sensor readings.\n",
    "\n",
    "The primary goals of this notebook are to:\n",
    "\n",
    "- Prepare the dataset for classification;\n",
    "- Normalize and encode the data effectively;\n",
    "- Apply robust training-validation strategies;\n",
    "- Build and evaluate an efficient MLP architecture;\n",
    "- Report classification performance using cross-validation.\n",
    "\n",
    "---\n",
    "## Notebook Sctructure\n",
    "\n",
    "1. Dataset Loading and Overview\n",
    "2. Target Encoding and Feature Scaling\n",
    "3. Cross-Validation Setup and Justification\n",
    "4. MLP Architecture Design and Training\n",
    "5. Performance Evaluation (Accuracy, Confusion Matrix, Report)\n",
    "\n",
    "---\n",
    "The implementation uses best practices in model validation (e.g., stratified k-fold cross-validation), and techniques like batch normalization and early stopping to improve generalization."
   ]
  },
  {
   "cell_type": "markdown",
   "id": "77a81829",
   "metadata": {},
   "source": [
    "### 1. Importing Libraries and Configuring GPU\n",
    "\n",
    "This block imports all the required libraries for data handling, preprocessing, evaluation, model building, and training. It includes tools for:\n",
    "\n",
    "- Numerical and tabular data manipulation (`numpy`, `pandas`)\n",
    "- Visualization (`matplotlib`, `seaborn`)\n",
    "- Machine learning tools (`scikit-learn`)\n",
    "- Deep learning with Keras and TensorFlow\n",
    "- Progress tracking using `tqdm`\n",
    "- Parameter grid creation with `product` from `itertools`\n",
    "\n",
    "Additionally, the code checks if a GPU is available and configures TensorFlow to allocate GPU memory as needed. This ensures that training is accelerated on compatible hardware and avoids memory overload issues."
   ]
  },
  {
   "cell_type": "code",
   "execution_count": 1,
   "id": "943148c3-b103-44b2-a0d4-e32d7c0999fd",
   "metadata": {},
   "outputs": [
    {
     "name": "stdout",
     "output_type": "stream",
     "text": [
      "GPU detected! Device:  PhysicalDevice(name='/physical_device:GPU:0', device_type='GPU')\n"
     ]
    }
   ],
   "source": [
    "import numpy as np\n",
    "import pandas as pd\n",
    "import matplotlib.pyplot as plt\n",
    "import seaborn as sns\n",
    "import pandas as pd\n",
    "import numpy as np\n",
    "from sklearn.model_selection import StratifiedKFold\n",
    "from sklearn.preprocessing import LabelEncoder, StandardScaler\n",
    "from sklearn.metrics import accuracy_score, f1_score, classification_report\n",
    "from tensorflow.keras.models import Sequential\n",
    "from tensorflow.keras.layers import Dense\n",
    "from tensorflow.keras.optimizers import Adam\n",
    "import tensorflow as tf\n",
    "from tqdm import tqdm\n",
    "from itertools import product\n",
    "\n",
    "# GPU config\n",
    "gpus = tf.config.list_physical_devices('GPU')\n",
    "if gpus:\n",
    "    print(\"GPU detected! Device: \", gpus[0])\n",
    "    tf.config.experimental.set_memory_growth(gpus[0], True)\n",
    "else:\n",
    "    print(\"No GPU detected. Using CPU instead.\")"
   ]
  },
  {
   "cell_type": "markdown",
   "id": "1a019f38-6484-4b5a-880c-f0a7092c691c",
   "metadata": {},
   "source": [
    "### 2. Loading the Dataset and Preparing the Modeling Subset\n",
    "\n",
    "This section performs initial data preparation:\n",
    "\n",
    "- Loads the full dataset (`complete_dataset.csv`) containing all sensor readings and environmental data.\n",
    "- Removes constant or non-informative sensor columns based on a precompiled list (`sensor_constantes.txt`).\n",
    "- Separates 10% of the dataset into a `df_gen` subset, which is reserved exclusively for final generalization testing and **never used during training, validation, or hyperparameter tuning**.\n",
    "- The remaining 90% is stored in `df_modeling` and will be used for all modeling experiments and cross-validation."
   ]
  },
  {
   "cell_type": "code",
   "execution_count": 2,
   "id": "2b38f5d8-3b02-4a82-b8bb-ef90c2689145",
   "metadata": {},
   "outputs": [],
   "source": [
    "# Load dataset\n",
    "df = pd.read_csv('../data/processed/complete_dataset.csv')\n",
    "\n",
    "# Removing constant sensors\n",
    "with open('../data/processed/sensor_constantes.txt', 'r') as f:\n",
    "    constant_sensors = [line.strip() for line in f.readlines()]\n",
    "\n",
    "df = df.drop(columns=constant_sensors, errors='ignore')\n",
    "\n",
    "# Split 10% for final generalization (do not touch during modeling)\n",
    "df_full = df.copy()\n",
    "df_gen = df_full.sample(frac=0.10, random_state=42)\n",
    "df_modeling = df_full.drop(df_gen.index).reset_index(drop=True)"
   ]
  },
  {
   "cell_type": "markdown",
   "id": "f86449a2-9df9-4bab-9d48-49266c03886a",
   "metadata": {},
   "source": [
    "### 3. Feature Selection, Label Encoding, and Normalization\n",
    "\n",
    "This block performs three key preprocessing steps:\n",
    "\n",
    "- **Feature Selection**: Removes non-predictive columns such as `classe` (target), `tag` (simulation identifier), and `Altura` (height) from the input features `X`.\n",
    "- **Label Encoding**: Converts the categorical class labels (`E1`, `E2`, `E3`) into numerical format using `LabelEncoder`, resulting in `y_encoded`. This is necessary for model compatibility.\n",
    "- **Normalization**: Applies `StandardScaler` to standardize all input features (`X_scaled`) with zero mean and unit variance. This step improves training convergence and model stability."
   ]
  },
  {
   "cell_type": "code",
   "execution_count": 3,
   "id": "5ba81864-f8bb-4acc-8031-8c6f4dc76acd",
   "metadata": {},
   "outputs": [],
   "source": [
    "# Feature Selection\n",
    "X = df_modeling.drop(columns=['classe', 'tag', 'Altura'], errors='ignore')\n",
    "y = df_modeling['classe']"
   ]
  },
  {
   "cell_type": "code",
   "execution_count": 4,
   "id": "a8045898-614e-40ff-b012-3492721652a8",
   "metadata": {},
   "outputs": [],
   "source": [
    "# Encode\n",
    "encoder = LabelEncoder()\n",
    "y_encoded = encoder.fit_transform(y)"
   ]
  },
  {
   "cell_type": "code",
   "execution_count": 5,
   "id": "2807cc32-8387-4285-aa95-580b1b130627",
   "metadata": {},
   "outputs": [],
   "source": [
    "# Normalization\n",
    "scaler = StandardScaler()\n",
    "X_scaled = scaler.fit_transform(X)"
   ]
  },
  {
   "cell_type": "markdown",
   "id": "039f9455-300e-4e68-904a-55059635b28a",
   "metadata": {},
   "source": [
    "### 4. Defining the Hyperparameter Grid and MLP Model Architecture\n",
    "\n",
    "In this section:\n",
    "\n",
    "- A **hyperparameter grid** (`param_grid`) is defined for tuning the Multi-Layer Perceptron (MLP) model. It includes:\n",
    "  - `units1`: number of neurons in the first hidden layer\n",
    "  - `units2`: number of neurons in the second hidden layer\n",
    "  - `lr`: learning rate for the optimizer\n",
    "\n",
    "- The function `build_model()` constructs a Sequential MLP model with the specified architecture:\n",
    "  - Two hidden layers with ReLU activation\n",
    "  - An output layer with 3 neurons (for 3-class classification) and softmax activation\n",
    "  - The model is compiled using the Adam optimizer and sparse categorical cross-entropy loss, suitable for integer-labeled targets."
   ]
  },
  {
   "cell_type": "code",
   "execution_count": 6,
   "id": "d13e8d42-d5a3-40d2-ab33-51904631be42",
   "metadata": {},
   "outputs": [],
   "source": [
    "param_grid = {\n",
    "    'units1': [64, 128],\n",
    "    'units2': [32, 64],\n",
    "    'lr': [0.001, 0.0005]\n",
    "}\n",
    "\n",
    "def build_model(input_dim, units1, units2, lr):\n",
    "    model = Sequential([\n",
    "        Dense(units1, activation='relu', input_shape=(input_dim,)),\n",
    "        Dense(units2, activation='relu'),\n",
    "        Dense(3, activation='softmax')\n",
    "    ])\n",
    "\n",
    "    model.compile(optimizer=Adam(learning_rate=lr),\n",
    "                  loss='sparse_categorical_crossentropy',\n",
    "                  metrics=['accuracy'])\n",
    "\n",
    "    return model"
   ]
  },
  {
   "cell_type": "markdown",
   "id": "ab5d3691-7df5-4eff-aece-54be48e9cf4f",
   "metadata": {},
   "source": [
    "### 5. Grid Search with Stratified K-Fold Cross-Validation\n",
    "\n",
    "This block performs an exhaustive **grid search** over all combinations of the defined hyperparameters (`units1`, `units2`, and `lr`) to find the best MLP configuration.\n",
    "\n",
    "For each combination:\n",
    "\n",
    "- A **5-fold stratified cross-validation** is applied using `StratifiedKFold` to preserve class distribution across folds.\n",
    "- The model is trained on each fold using the `build_model()` function.\n",
    "- **Two evaluation metrics** are computed for each fold:\n",
    "  - **Accuracy**\n",
    "  - **Weighted F1-Score**, which accounts for class imbalance\n",
    "\n",
    "After evaluating all folds for a given configuration:\n",
    "- The average F1-score and accuracy are stored.\n",
    "- The configuration with the **highest average F1-score** is tracked as the best.\n",
    "\n",
    "Progress is monitored using `tqdm`, and intermediate training information is printed for traceability."
   ]
  },
  {
   "cell_type": "code",
   "execution_count": 10,
   "id": "6fe13645-269f-4f6f-b690-e34b997a971b",
   "metadata": {},
   "outputs": [
    {
     "name": "stderr",
     "output_type": "stream",
     "text": [
      "GridSearch Progress:   0%|                                                                       | 0/8 [00:00<?, ?it/s]"
     ]
    },
    {
     "name": "stdout",
     "output_type": "stream",
     "text": [
      "Treinando configuração: units1=64, units2=32, lr=0.001\n",
      "   → Fold 1/5\n",
      "1321/1321 [==============================] - 2s 1ms/step\n"
     ]
    },
    {
     "name": "stderr",
     "output_type": "stream",
     "text": [
      "GridSearch Progress:   0%|                                                                       | 0/8 [07:26<?, ?it/s]"
     ]
    },
    {
     "name": "stdout",
     "output_type": "stream",
     "text": [
      "   → Fold 2/5\n",
      "1321/1321 [==============================] - 2s 1ms/step\n"
     ]
    },
    {
     "name": "stderr",
     "output_type": "stream",
     "text": [
      "GridSearch Progress:   0%|                                                                       | 0/8 [14:59<?, ?it/s]"
     ]
    },
    {
     "name": "stdout",
     "output_type": "stream",
     "text": [
      "   → Fold 3/5\n",
      "1321/1321 [==============================] - 2s 1ms/step\n"
     ]
    },
    {
     "name": "stderr",
     "output_type": "stream",
     "text": [
      "GridSearch Progress:   0%|                                                                       | 0/8 [22:33<?, ?it/s]"
     ]
    },
    {
     "name": "stdout",
     "output_type": "stream",
     "text": [
      "   → Fold 4/5\n",
      "1321/1321 [==============================] - 2s 1ms/step\n"
     ]
    },
    {
     "name": "stderr",
     "output_type": "stream",
     "text": [
      "GridSearch Progress:   0%|                                                                       | 0/8 [30:06<?, ?it/s]"
     ]
    },
    {
     "name": "stdout",
     "output_type": "stream",
     "text": [
      "   → Fold 5/5\n",
      "1321/1321 [==============================] - 2s 1ms/step\n"
     ]
    },
    {
     "name": "stderr",
     "output_type": "stream",
     "text": [
      "GridSearch Progress:  12%|███████▍                                                   | 1/8 [37:35<4:23:11, 2255.96s/it]"
     ]
    },
    {
     "name": "stdout",
     "output_type": "stream",
     "text": [
      "Treinando configuração: units1=64, units2=32, lr=0.0005\n",
      "   → Fold 1/5\n",
      "1321/1321 [==============================] - 2s 1ms/step\n"
     ]
    },
    {
     "name": "stderr",
     "output_type": "stream",
     "text": [
      "GridSearch Progress:  12%|███████▍                                                   | 1/8 [45:08<4:23:11, 2255.96s/it]"
     ]
    },
    {
     "name": "stdout",
     "output_type": "stream",
     "text": [
      "   → Fold 2/5\n",
      "1321/1321 [==============================] - 2s 1ms/step\n"
     ]
    },
    {
     "name": "stderr",
     "output_type": "stream",
     "text": [
      "GridSearch Progress:  12%|███████▍                                                   | 1/8 [52:43<4:23:11, 2255.96s/it]"
     ]
    },
    {
     "name": "stdout",
     "output_type": "stream",
     "text": [
      "   → Fold 3/5\n",
      "1321/1321 [==============================] - 2s 1ms/step\n"
     ]
    },
    {
     "name": "stderr",
     "output_type": "stream",
     "text": [
      "GridSearch Progress:  12%|███████▏                                                 | 1/8 [1:00:17<4:23:11, 2255.96s/it]"
     ]
    },
    {
     "name": "stdout",
     "output_type": "stream",
     "text": [
      "   → Fold 4/5\n",
      "1321/1321 [==============================] - 2s 1ms/step\n"
     ]
    },
    {
     "name": "stderr",
     "output_type": "stream",
     "text": [
      "GridSearch Progress:  12%|███████▏                                                 | 1/8 [1:07:54<4:23:11, 2255.96s/it]"
     ]
    },
    {
     "name": "stdout",
     "output_type": "stream",
     "text": [
      "   → Fold 5/5\n",
      "1321/1321 [==============================] - 2s 1ms/step\n"
     ]
    },
    {
     "name": "stderr",
     "output_type": "stream",
     "text": [
      "GridSearch Progress:  25%|██████████████▎                                          | 2/8 [1:15:36<3:47:01, 2270.17s/it]"
     ]
    },
    {
     "name": "stdout",
     "output_type": "stream",
     "text": [
      "Treinando configuração: units1=64, units2=64, lr=0.001\n",
      "   → Fold 1/5\n",
      "1321/1321 [==============================] - 2s 1ms/step\n"
     ]
    },
    {
     "name": "stderr",
     "output_type": "stream",
     "text": [
      "GridSearch Progress:  25%|██████████████▎                                          | 2/8 [1:23:14<3:47:01, 2270.17s/it]"
     ]
    },
    {
     "name": "stdout",
     "output_type": "stream",
     "text": [
      "   → Fold 2/5\n",
      "1321/1321 [==============================] - 2s 1ms/step\n"
     ]
    },
    {
     "name": "stderr",
     "output_type": "stream",
     "text": [
      "GridSearch Progress:  25%|██████████████▎                                          | 2/8 [1:30:53<3:47:01, 2270.17s/it]"
     ]
    },
    {
     "name": "stdout",
     "output_type": "stream",
     "text": [
      "   → Fold 3/5\n",
      "1321/1321 [==============================] - 2s 1ms/step\n"
     ]
    },
    {
     "name": "stderr",
     "output_type": "stream",
     "text": [
      "GridSearch Progress:  25%|██████████████▎                                          | 2/8 [1:38:56<3:47:01, 2270.17s/it]"
     ]
    },
    {
     "name": "stdout",
     "output_type": "stream",
     "text": [
      "   → Fold 4/5\n",
      "1321/1321 [==============================] - 2s 1ms/step\n"
     ]
    },
    {
     "name": "stderr",
     "output_type": "stream",
     "text": [
      "GridSearch Progress:  25%|██████████████▎                                          | 2/8 [1:47:12<3:47:01, 2270.17s/it]"
     ]
    },
    {
     "name": "stdout",
     "output_type": "stream",
     "text": [
      "   → Fold 5/5\n",
      "1321/1321 [==============================] - 2s 1ms/step\n"
     ]
    },
    {
     "name": "stderr",
     "output_type": "stream",
     "text": [
      "GridSearch Progress:  38%|█████████████████████▍                                   | 3/8 [1:55:04<3:12:54, 2314.95s/it]"
     ]
    },
    {
     "name": "stdout",
     "output_type": "stream",
     "text": [
      "Treinando configuração: units1=64, units2=64, lr=0.0005\n"
     ]
    },
    {
     "name": "stderr",
     "output_type": "stream",
     "text": [
      "GridSearch Progress:  38%|█████████████████████▍                                   | 3/8 [1:55:05<3:12:54, 2314.95s/it]"
     ]
    },
    {
     "name": "stdout",
     "output_type": "stream",
     "text": [
      "   → Fold 1/5\n",
      "1321/1321 [==============================] - 1s 1ms/step\n"
     ]
    },
    {
     "name": "stderr",
     "output_type": "stream",
     "text": [
      "GridSearch Progress:  38%|█████████████████████▍                                   | 3/8 [2:02:32<3:12:54, 2314.95s/it]"
     ]
    },
    {
     "name": "stdout",
     "output_type": "stream",
     "text": [
      "   → Fold 2/5\n",
      "1321/1321 [==============================] - 2s 1ms/step\n"
     ]
    },
    {
     "name": "stderr",
     "output_type": "stream",
     "text": [
      "GridSearch Progress:  38%|█████████████████████▍                                   | 3/8 [2:08:48<3:12:54, 2314.95s/it]"
     ]
    },
    {
     "name": "stdout",
     "output_type": "stream",
     "text": [
      "   → Fold 3/5\n",
      "1321/1321 [==============================] - 1s 939us/step\n"
     ]
    },
    {
     "name": "stderr",
     "output_type": "stream",
     "text": [
      "GridSearch Progress:  38%|█████████████████████▍                                   | 3/8 [2:14:46<3:12:54, 2314.95s/it]"
     ]
    },
    {
     "name": "stdout",
     "output_type": "stream",
     "text": [
      "   → Fold 4/5\n",
      "1321/1321 [==============================] - 1s 1ms/step\n"
     ]
    },
    {
     "name": "stderr",
     "output_type": "stream",
     "text": [
      "GridSearch Progress:  38%|█████████████████████▍                                   | 3/8 [2:20:42<3:12:54, 2314.95s/it]"
     ]
    },
    {
     "name": "stdout",
     "output_type": "stream",
     "text": [
      "   → Fold 5/5\n",
      "1321/1321 [==============================] - 1s 976us/step\n"
     ]
    },
    {
     "name": "stderr",
     "output_type": "stream",
     "text": [
      "GridSearch Progress:  50%|████████████████████████████▌                            | 4/8 [2:26:36<2:23:11, 2147.94s/it]"
     ]
    },
    {
     "name": "stdout",
     "output_type": "stream",
     "text": [
      "Treinando configuração: units1=128, units2=32, lr=0.001\n",
      "   → Fold 1/5\n",
      "1321/1321 [==============================] - 1s 1ms/step\n"
     ]
    },
    {
     "name": "stderr",
     "output_type": "stream",
     "text": [
      "GridSearch Progress:  50%|████████████████████████████▌                            | 4/8 [2:32:28<2:23:11, 2147.94s/it]"
     ]
    },
    {
     "name": "stdout",
     "output_type": "stream",
     "text": [
      "   → Fold 2/5\n",
      "1321/1321 [==============================] - 1s 1ms/step\n"
     ]
    },
    {
     "name": "stderr",
     "output_type": "stream",
     "text": [
      "GridSearch Progress:  50%|████████████████████████████▌                            | 4/8 [2:38:22<2:23:11, 2147.94s/it]"
     ]
    },
    {
     "name": "stdout",
     "output_type": "stream",
     "text": [
      "   → Fold 3/5\n",
      "1321/1321 [==============================] - 1s 990us/step\n"
     ]
    },
    {
     "name": "stderr",
     "output_type": "stream",
     "text": [
      "GridSearch Progress:  50%|████████████████████████████▌                            | 4/8 [2:44:15<2:23:11, 2147.94s/it]"
     ]
    },
    {
     "name": "stdout",
     "output_type": "stream",
     "text": [
      "   → Fold 4/5\n",
      "1321/1321 [==============================] - 1s 1ms/step\n"
     ]
    },
    {
     "name": "stderr",
     "output_type": "stream",
     "text": [
      "GridSearch Progress:  50%|████████████████████████████▌                            | 4/8 [2:50:07<2:23:11, 2147.94s/it]"
     ]
    },
    {
     "name": "stdout",
     "output_type": "stream",
     "text": [
      "   → Fold 5/5\n",
      "1321/1321 [==============================] - 1s 959us/step\n"
     ]
    },
    {
     "name": "stderr",
     "output_type": "stream",
     "text": [
      "GridSearch Progress:  62%|███████████████████████████████████▋                     | 5/8 [2:56:01<1:40:29, 2009.89s/it]"
     ]
    },
    {
     "name": "stdout",
     "output_type": "stream",
     "text": [
      "Treinando configuração: units1=128, units2=32, lr=0.0005\n",
      "   → Fold 1/5\n",
      "1321/1321 [==============================] - 1s 943us/step\n"
     ]
    },
    {
     "name": "stderr",
     "output_type": "stream",
     "text": [
      "GridSearch Progress:  62%|███████████████████████████████████▋                     | 5/8 [3:01:52<1:40:29, 2009.89s/it]"
     ]
    },
    {
     "name": "stdout",
     "output_type": "stream",
     "text": [
      "   → Fold 2/5\n",
      "1321/1321 [==============================] - 1s 930us/step\n"
     ]
    },
    {
     "name": "stderr",
     "output_type": "stream",
     "text": [
      "GridSearch Progress:  62%|███████████████████████████████████▋                     | 5/8 [3:07:43<1:40:29, 2009.89s/it]"
     ]
    },
    {
     "name": "stdout",
     "output_type": "stream",
     "text": [
      "   → Fold 3/5\n",
      "1321/1321 [==============================] - 1s 1ms/step\n"
     ]
    },
    {
     "name": "stderr",
     "output_type": "stream",
     "text": [
      "GridSearch Progress:  62%|███████████████████████████████████▋                     | 5/8 [3:13:36<1:40:29, 2009.89s/it]"
     ]
    },
    {
     "name": "stdout",
     "output_type": "stream",
     "text": [
      "   → Fold 4/5\n",
      "1321/1321 [==============================] - 1s 928us/step\n"
     ]
    },
    {
     "name": "stderr",
     "output_type": "stream",
     "text": [
      "GridSearch Progress:  62%|███████████████████████████████████▋                     | 5/8 [3:19:29<1:40:29, 2009.89s/it]"
     ]
    },
    {
     "name": "stdout",
     "output_type": "stream",
     "text": [
      "   → Fold 5/5\n",
      "1321/1321 [==============================] - 1s 970us/step\n"
     ]
    },
    {
     "name": "stderr",
     "output_type": "stream",
     "text": [
      "GridSearch Progress:  75%|██████████████████████████████████████████▊              | 6/8 [3:25:21<1:04:09, 1924.90s/it]"
     ]
    },
    {
     "name": "stdout",
     "output_type": "stream",
     "text": [
      "Treinando configuração: units1=128, units2=64, lr=0.001\n",
      "   → Fold 1/5\n",
      "1321/1321 [==============================] - 1s 962us/step\n"
     ]
    },
    {
     "name": "stderr",
     "output_type": "stream",
     "text": [
      "GridSearch Progress:  75%|██████████████████████████████████████████▊              | 6/8 [3:31:12<1:04:09, 1924.90s/it]"
     ]
    },
    {
     "name": "stdout",
     "output_type": "stream",
     "text": [
      "   → Fold 2/5\n",
      "1321/1321 [==============================] - 1s 953us/step\n"
     ]
    },
    {
     "name": "stderr",
     "output_type": "stream",
     "text": [
      "GridSearch Progress:  75%|██████████████████████████████████████████▊              | 6/8 [3:37:04<1:04:09, 1924.90s/it]"
     ]
    },
    {
     "name": "stdout",
     "output_type": "stream",
     "text": [
      "   → Fold 3/5\n",
      "1321/1321 [==============================] - 2s 1ms/step\n"
     ]
    },
    {
     "name": "stderr",
     "output_type": "stream",
     "text": [
      "GridSearch Progress:  75%|██████████████████████████████████████████▊              | 6/8 [3:42:58<1:04:09, 1924.90s/it]"
     ]
    },
    {
     "name": "stdout",
     "output_type": "stream",
     "text": [
      "   → Fold 4/5\n",
      "1321/1321 [==============================] - 1s 914us/step\n"
     ]
    },
    {
     "name": "stderr",
     "output_type": "stream",
     "text": [
      "GridSearch Progress:  75%|██████████████████████████████████████████▊              | 6/8 [3:48:50<1:04:09, 1924.90s/it]"
     ]
    },
    {
     "name": "stdout",
     "output_type": "stream",
     "text": [
      "   → Fold 5/5\n",
      "1321/1321 [==============================] - 1s 944us/step\n"
     ]
    },
    {
     "name": "stderr",
     "output_type": "stream",
     "text": [
      "GridSearch Progress:  88%|███████████████████████████████████████████████████▋       | 7/8 [3:54:42<31:11, 1871.33s/it]"
     ]
    },
    {
     "name": "stdout",
     "output_type": "stream",
     "text": [
      "Treinando configuração: units1=128, units2=64, lr=0.0005\n",
      "   → Fold 1/5\n",
      "1321/1321 [==============================] - 1s 919us/step\n"
     ]
    },
    {
     "name": "stderr",
     "output_type": "stream",
     "text": [
      "GridSearch Progress:  88%|███████████████████████████████████████████████████▋       | 7/8 [4:00:36<31:11, 1871.33s/it]"
     ]
    },
    {
     "name": "stdout",
     "output_type": "stream",
     "text": [
      "   → Fold 2/5\n",
      "1321/1321 [==============================] - 1s 904us/step\n"
     ]
    },
    {
     "name": "stderr",
     "output_type": "stream",
     "text": [
      "GridSearch Progress:  88%|███████████████████████████████████████████████████▋       | 7/8 [4:06:29<31:11, 1871.33s/it]"
     ]
    },
    {
     "name": "stdout",
     "output_type": "stream",
     "text": [
      "   → Fold 3/5\n",
      "1321/1321 [==============================] - 1s 961us/step\n"
     ]
    },
    {
     "name": "stderr",
     "output_type": "stream",
     "text": [
      "GridSearch Progress:  88%|███████████████████████████████████████████████████▋       | 7/8 [4:12:22<31:11, 1871.33s/it]"
     ]
    },
    {
     "name": "stdout",
     "output_type": "stream",
     "text": [
      "   → Fold 4/5\n",
      "1321/1321 [==============================] - 1s 968us/step\n"
     ]
    },
    {
     "name": "stderr",
     "output_type": "stream",
     "text": [
      "GridSearch Progress:  88%|███████████████████████████████████████████████████▋       | 7/8 [4:18:14<31:11, 1871.33s/it]"
     ]
    },
    {
     "name": "stdout",
     "output_type": "stream",
     "text": [
      "   → Fold 5/5\n",
      "1321/1321 [==============================] - 1s 904us/step\n"
     ]
    },
    {
     "name": "stderr",
     "output_type": "stream",
     "text": [
      "GridSearch Progress: 100%|███████████████████████████████████████████████████████████| 8/8 [4:24:07<00:00, 1980.96s/it]\n"
     ]
    }
   ],
   "source": [
    "param_combinations = list(product(param_grid['units1'], param_grid['units2'], param_grid['lr']))\n",
    "\n",
    "results = []\n",
    "best_score = 0\n",
    "best_config = None\n",
    "\n",
    "for u1, u2, lr in tqdm(param_combinations, desc=\"GridSearch Progress\", total=len(param_combinations), dynamic_ncols=True):\n",
    "    tqdm.write(f\"Treinando configuração: units1={u1}, units2={u2}, lr={lr}\")\n",
    "\n",
    "    kfold = StratifiedKFold(n_splits=5, shuffle=True, random_state=42)\n",
    "    f1_scores = []\n",
    "    acc_scores = []\n",
    "\n",
    "    for fold, (train_idx, val_idx) in enumerate(kfold.split(X_scaled, y_encoded), start=1):\n",
    "        tqdm.write(f\"   → Fold {fold}/5\")\n",
    "\n",
    "        X_train, X_val = X_scaled[train_idx], X_scaled[val_idx]\n",
    "        y_train, y_val = y_encoded[train_idx], y_encoded[val_idx]\n",
    "\n",
    "        model = build_model(X_train.shape[1], u1, u2, lr)\n",
    "        model.fit(X_train, y_train, epochs=30, batch_size=32, verbose=0)\n",
    "\n",
    "        y_pred = model.predict(X_val)\n",
    "        y_pred_class = np.argmax(y_pred, axis=1)\n",
    "\n",
    "        acc = accuracy_score(y_val, y_pred_class)\n",
    "        f1 = f1_score(y_val, y_pred_class, average='weighted')\n",
    "\n",
    "        acc_scores.append(acc)\n",
    "        f1_scores.append(f1)\n",
    "\n",
    "    avg_acc = np.mean(acc_scores)\n",
    "    avg_f1 = np.mean(f1_scores)\n",
    "\n",
    "    results.append((u1, u2, lr, avg_acc, avg_f1))\n",
    "\n",
    "    if avg_f1 > best_score:\n",
    "        best_score = avg_f1\n",
    "        best_config = (u1, u2, lr)"
   ]
  },
  {
   "cell_type": "code",
   "execution_count": 11,
   "id": "9329690a-7992-4d52-9112-87d36a2caa4a",
   "metadata": {},
   "outputs": [
    {
     "name": "stdout",
     "output_type": "stream",
     "text": [
      "\n",
      "🏆 Melhor Configuração Encontrada:\n",
      "   ➤ units1 = 64\n",
      "   ➤ units2 = 64\n",
      "   ➤ learning rate = 0.001\n",
      "   ➤ F1 médio = 0.3252\n",
      "\n",
      "📊 Tabela completa de resultados:\n",
      "   units1  units2      lr  Acurácia Média  F1-Score Médio\n",
      "2      64      64  0.0010        0.459579        0.325168\n",
      "3      64      64  0.0005        0.459238        0.324734\n",
      "1      64      32  0.0005        0.458868        0.324374\n",
      "7     128      64  0.0005        0.458736        0.324349\n",
      "4     128      32  0.0010        0.459001        0.324339\n",
      "5     128      32  0.0005        0.458617        0.324259\n",
      "0      64      32  0.0010        0.458755        0.323965\n",
      "6     128      64  0.0010        0.458419        0.323790\n"
     ]
    }
   ],
   "source": [
    "df_results = pd.DataFrame(results, columns=['units1', 'units2', 'lr', 'Acurácia Média', 'F1-Score Médio'])\n",
    "df_results.sort_values(by='F1-Score Médio', ascending=False, inplace=True)\n",
    "\n",
    "print(\"\\n🏆 Melhor Configuração Encontrada:\")\n",
    "print(f\"   ➤ units1 = {best_config[0]}\")\n",
    "print(f\"   ➤ units2 = {best_config[1]}\")\n",
    "print(f\"   ➤ learning rate = {best_config[2]}\")\n",
    "print(f\"   ➤ F1 médio = {best_score:.4f}\")\n",
    "print(\"\\n📊 Tabela completa de resultados:\")\n",
    "print(df_results)"
   ]
  },
  {
   "cell_type": "markdown",
   "id": "6eab36f8-41ae-431b-ab39-5bb77c1ef71d",
   "metadata": {},
   "source": [
    "### 6. Summary of Results and Evaluation of the MLP Model\n",
    "\n",
    "After performing an extensive grid search with stratified 5-fold cross-validation, the best MLP configuration found was:\n",
    "\n",
    "- **units1**: 64 neurons  \n",
    "- **units2**: 64 neurons  \n",
    "- **learning rate**: 0.001  \n",
    "- **Average F1-Score**: 0.325  \n",
    "- **Average Accuracy**: 0.459  \n",
    "\n",
    "Despite the use of validation strategies and hyperparameter tuning, the model's performance remained poor — slightly above random guessing for a 3-class problem (≈33% baseline).\n",
    "\n",
    "#### 🔍 Key Findings:\n",
    "\n",
    "- The model **failed to effectively distinguish between the emission classes (E1, E2, E3)**.\n",
    "- Minor variation in F1-score across all tested configurations suggests that **the MLP architecture is not the main limiting factor**.\n",
    "- The input features used lacked temporal structure. Since the particle emission classes appear to differ primarily through **temporal patterns**, a purely tabular MLP was unable to capture these dynamics.\n",
    "- The performance is likely also affected by **partial overlap between classes** (as identified in the EDA) and possibly **class imbalance**.\n",
    "\n",
    "#### ❌ Conclusion:\n",
    "\n",
    "The MLP model, even with tuned hyperparameters and rigorous validation, is **not suitable** for this task due to the **lack of temporal modeling** and the nature of the dataset.  \n",
    "We will proceed to more appropriate architectures, such as **LSTM** and **CNN**, which are capable of learning from sequential patterns in the data."
   ]
  }
 ],
 "metadata": {
  "kernelspec": {
   "display_name": "Python (tf-gpu)",
   "language": "python",
   "name": "tf-gpu"
  },
  "language_info": {
   "codemirror_mode": {
    "name": "ipython",
    "version": 3
   },
   "file_extension": ".py",
   "mimetype": "text/x-python",
   "name": "python",
   "nbconvert_exporter": "python",
   "pygments_lexer": "ipython3",
   "version": "3.10.8"
  }
 },
 "nbformat": 4,
 "nbformat_minor": 5
}
