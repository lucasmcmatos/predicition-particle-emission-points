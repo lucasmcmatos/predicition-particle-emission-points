{
 "cells": [
  {
   "cell_type": "markdown",
   "id": "3de75e63-cda9-46fb-ac5f-5b83729e349d",
   "metadata": {},
   "source": [
    "# MLP Model — Emission Point Classification from Aggregated Features\n",
    "\n",
    "This notebook develops a **Multilayer Perceptron (MLP)** to classify particle emission sources (E1, E2, E3) based on aggregated features extracted from sensor data. \n",
    "\n",
    "Unlike time-aware models like CNN1D or LSTM, this approach uses **flattened statistical summaries** of each simulation window, providing a strong baseline for comparison.\n",
    "\n",
    "---\n",
    "\n",
    "## Notebook Structure\n",
    "\n",
    "0. Import Required Libraries and Setup  \n",
    "1. Load Aggregated Dataset and Explore Feature Types  \n",
    "2. Normalize and Encode Data  \n",
    "3. Split Dataset into Train / Validation / Test  \n",
    "4. Build and Train the MLP Model  \n",
    "5. Evaluate Performance and Show Classification Report  \n",
    "6. Visualize Training History\n",
    "\n",
    "---\n",
    "\n",
    "> ✅ This notebook provides a baseline architecture. It assumes no sequential structure in the input and evaluates how well a dense feedforward network can separate emission source classes using only aggregated features.\n"
   ]
  },
  {
   "cell_type": "markdown",
   "id": "d49539ce-9ead-4d35-b4aa-9492c8bc856f",
   "metadata": {},
   "source": [
    "## Step 0 - Import Required Libraries\n",
    "\n",
    "We import essential libraries including `numpy`, `pandas`, and `sklearn` for data processing, and `tensorflow.keras` to build and train the MLP model."
   ]
  },
  {
   "cell_type": "code",
   "execution_count": 16,
   "id": "251426e7-6719-4c9e-8fb2-94acee353074",
   "metadata": {},
   "outputs": [],
   "source": [
    "import pandas as pd\n",
    "import numpy as np\n",
    "from sklearn.model_selection import train_test_split\n",
    "from sklearn.preprocessing import StandardScaler, LabelEncoder\n",
    "from tensorflow.keras.models import Sequential\n",
    "from tensorflow.keras.layers import Dense\n",
    "from tensorflow.keras.utils import to_categorical\n",
    "from sklearn.metrics import classification_report, confusion_matrix\n",
    "import matplotlib.pyplot as plt"
   ]
  },
  {
   "cell_type": "markdown",
   "id": "f00013bf-d9d0-459a-871d-722f57e6a6af",
   "metadata": {},
   "source": [
    "## Step 1 - Load Dataset\n",
    "\n",
    "We load the preprocessed dataset (`complete_dataset.csv`) that contains multiple sensor readings and a target column `Emission_Point` indicating the simulated source of emission (E1, E2, or E3).\n"
   ]
  },
  {
   "cell_type": "code",
   "execution_count": 17,
   "id": "6f793f59-8db6-43de-af5f-8a75fa6313df",
   "metadata": {},
   "outputs": [
    {
     "name": "stdout",
     "output_type": "stream",
     "text": [
      "Time                 float64\n",
      "PartMatter01         float64\n",
      "PartMatter02         float64\n",
      "PartMatter03         float64\n",
      "PartMatter04         float64\n",
      "                      ...   \n",
      "mass                 float64\n",
      "Wind_Direction         int64\n",
      "Wind_Speed           float64\n",
      "Emission_Interval    float64\n",
      "Height                 int64\n",
      "Length: 336, dtype: object\n"
     ]
    }
   ],
   "source": [
    "# Load datset\n",
    "df = pd.read_csv(\"../data/processed/complete_dataset.csv\")  # Substitua pelo caminho do seu dataset\n",
    "\n",
    "# Split features and targets\n",
    "X = df.drop(columns=[\"Emission_Point\"])\n",
    "y = df[\"Emission_Point\"]\n",
    "\n",
    "X = X.select_dtypes(include=[np.number])\n",
    "print(X.dtypes)"
   ]
  },
  {
   "cell_type": "markdown",
   "id": "a8509a88-a6c4-4352-9998-129377a2ca57",
   "metadata": {},
   "source": [
    "## Step 2 - Preprocess Features and Target\n",
    "\n",
    "The input features are scaled using `StandardScaler`, which is essential for neural networks to converge properly.\n",
    "\n",
    "The target variable `Emission_Point` is first label-encoded into integers and then one-hot encoded with `to_categorical` for multi-class classification.\n"
   ]
  },
  {
   "cell_type": "code",
   "execution_count": 19,
   "id": "afa45320-2258-49a2-b73c-e0434aa54b8c",
   "metadata": {},
   "outputs": [],
   "source": [
    "# Features normalization\n",
    "scaler = StandardScaler()\n",
    "X_scaled = scaler.fit_transform(X)\n",
    "\n",
    "# Target encode\n",
    "le = LabelEncoder()\n",
    "y_encoded = le.fit_transform(y)\n",
    "\n",
    "# Split train/validation/test\n",
    "X_train, X_temp, y_train, y_temp = train_test_split(X_scaled, y_encoded, test_size=0.3, random_state=42)\n",
    "X_val, X_test, y_val, y_test = train_test_split(X_temp, y_temp, test_size=0.5, random_state=42)"
   ]
  },
  {
   "cell_type": "markdown",
   "id": "2d0a47ff-a098-4ea9-a148-498211daf783",
   "metadata": {},
   "source": [
    "## Step 3 - Define the MLP Model\n",
    "\n",
    "We define a Multilayer Perceptron with three hidden layers and ReLU activation. The final layer uses softmax activation for multiclass output.\n",
    "\n",
    "- Input layer: 336 neurons (one for each feature)\n",
    "- Hidden layers: progressively smaller (e.g., 336 → 128 → 64 → 32)\n",
    "- Output layer: 3 neurons (E1, E2, E3) with softmax\n"
   ]
  },
  {
   "cell_type": "code",
   "execution_count": 20,
   "id": "e9139036-589e-4504-bb20-bcc9b9622b87",
   "metadata": {},
   "outputs": [
    {
     "name": "stdout",
     "output_type": "stream",
     "text": [
      "Model: \"sequential_1\"\n",
      "_________________________________________________________________\n",
      " Layer (type)                Output Shape              Param #   \n",
      "=================================================================\n",
      " dense_5 (Dense)             (None, 336)               113232    \n",
      "                                                                 \n",
      " dense_6 (Dense)             (None, 128)               43136     \n",
      "                                                                 \n",
      " dense_7 (Dense)             (None, 64)                8256      \n",
      "                                                                 \n",
      " dense_8 (Dense)             (None, 32)                2080      \n",
      "                                                                 \n",
      " dense_9 (Dense)             (None, 3)                 99        \n",
      "                                                                 \n",
      "=================================================================\n",
      "Total params: 166,803\n",
      "Trainable params: 166,803\n",
      "Non-trainable params: 0\n",
      "_________________________________________________________________\n"
     ]
    }
   ],
   "source": [
    "model = Sequential()\n",
    "model.add(Dense(336, input_dim=X_train.shape[1], activation='relu'))\n",
    "model.add(Dense(128, activation='relu'))\n",
    "model.add(Dense(64, activation='relu'))\n",
    "model.add(Dense(32, activation='relu'))\n",
    "model.add(Dense(y_categorical.shape[1], activation='softmax'))  \n",
    "\n",
    "model.compile(optimizer='adam',\n",
    "              loss='sparse_categorical_crossentropy',\n",
    "              metrics=['accuracy'])\n",
    "\n",
    "model.summary()"
   ]
  },
  {
   "cell_type": "markdown",
   "id": "f9dd85c1-dca0-4c93-bb9e-aab496f18f76",
   "metadata": {},
   "source": [
    "## Step 4 - Compile and Train the Model\n",
    "\n",
    "The model is compiled with the `adam` optimizer and `categorical_crossentropy` loss function. Training is performed for a defined number of epochs with validation tracking.\n"
   ]
  },
  {
   "cell_type": "code",
   "execution_count": 21,
   "id": "c1cd3801-53a3-4d3d-8708-de34e11d05e9",
   "metadata": {},
   "outputs": [
    {
     "name": "stdout",
     "output_type": "stream",
     "text": [
      "Epoch 1/10\n",
      "5139/5139 [==============================] - 21s 4ms/step - loss: nan - accuracy: 0.3462 - val_loss: nan - val_accuracy: 0.3446\n",
      "Epoch 2/10\n",
      "5139/5139 [==============================] - 20s 4ms/step - loss: nan - accuracy: 0.3462 - val_loss: nan - val_accuracy: 0.3446\n",
      "Epoch 3/10\n",
      "5139/5139 [==============================] - 20s 4ms/step - loss: nan - accuracy: 0.3462 - val_loss: nan - val_accuracy: 0.3446\n",
      "Epoch 4/10\n",
      "5139/5139 [==============================] - 20s 4ms/step - loss: nan - accuracy: 0.3462 - val_loss: nan - val_accuracy: 0.3446\n",
      "Epoch 5/10\n",
      "5139/5139 [==============================] - 19s 4ms/step - loss: nan - accuracy: 0.3462 - val_loss: nan - val_accuracy: 0.3446\n",
      "Epoch 6/10\n",
      "5139/5139 [==============================] - 20s 4ms/step - loss: nan - accuracy: 0.3462 - val_loss: nan - val_accuracy: 0.3446\n",
      "Epoch 7/10\n",
      "5139/5139 [==============================] - 23s 4ms/step - loss: nan - accuracy: 0.3462 - val_loss: nan - val_accuracy: 0.3446\n",
      "Epoch 8/10\n",
      "5139/5139 [==============================] - 25s 5ms/step - loss: nan - accuracy: 0.3462 - val_loss: nan - val_accuracy: 0.3446\n",
      "Epoch 9/10\n",
      "5139/5139 [==============================] - 25s 5ms/step - loss: nan - accuracy: 0.3462 - val_loss: nan - val_accuracy: 0.3446\n",
      "Epoch 10/10\n",
      "5139/5139 [==============================] - 22s 4ms/step - loss: nan - accuracy: 0.3462 - val_loss: nan - val_accuracy: 0.3446\n"
     ]
    }
   ],
   "source": [
    "from sklearn.utils import class_weight\n",
    "\n",
    "class_weights = class_weight.compute_class_weight(\n",
    "    class_weight='balanced',\n",
    "    classes=np.unique(y_encoded),\n",
    "    y=y_encoded\n",
    ")\n",
    "\n",
    "history = model.fit(X_train, y_train,\n",
    "                    validation_data=(X_val, y_val),\n",
    "                    class_weight=dict(enumerate(class_weights)),\n",
    "                    epochs=10,\n",
    "                    batch_size=32,\n",
    "                    verbose=1)"
   ]
  },
  {
   "cell_type": "markdown",
   "id": "2cd64f97-2d34-4af8-9545-1fd75f4f01c1",
   "metadata": {},
   "source": [
    "## Step 5 - Evaluate Model Performance\n",
    "\n",
    "We evaluate the model on the held-out test set and print classification metrics including accuracy, precision, recall, F1-score, and the confusion matrix.\n"
   ]
  },
  {
   "cell_type": "code",
   "execution_count": 24,
   "id": "136aca7f-f66e-4d98-89a2-689f1dad5b49",
   "metadata": {},
   "outputs": [
    {
     "name": "stdout",
     "output_type": "stream",
     "text": [
      "1102/1102 [==============================] - 3s 3ms/step - loss: nan - accuracy: 0.3429\n",
      "Test Accuracy: 0.3429\n",
      "\n",
      "Classification Report:\n",
      "              precision    recall  f1-score   support\n",
      "\n",
      "          E1       0.34      1.00      0.51     12084\n",
      "          E2       0.00      0.00      0.00     12140\n",
      "          E3       0.00      0.00      0.00     11014\n",
      "\n",
      "    accuracy                           0.34     35238\n",
      "   macro avg       0.11      0.33      0.17     35238\n",
      "weighted avg       0.12      0.34      0.18     35238\n",
      "\n",
      "\n",
      "Confusion Matrix:\n",
      "[[12084     0     0]\n",
      " [12140     0     0]\n",
      " [11014     0     0]]\n"
     ]
    },
    {
     "name": "stderr",
     "output_type": "stream",
     "text": [
      "C:\\Users\\JC INFO\\anaconda3\\envs\\tf-gpu\\lib\\site-packages\\sklearn\\metrics\\_classification.py:1565: UndefinedMetricWarning: Precision is ill-defined and being set to 0.0 in labels with no predicted samples. Use `zero_division` parameter to control this behavior.\n",
      "  _warn_prf(average, modifier, f\"{metric.capitalize()} is\", len(result))\n",
      "C:\\Users\\JC INFO\\anaconda3\\envs\\tf-gpu\\lib\\site-packages\\sklearn\\metrics\\_classification.py:1565: UndefinedMetricWarning: Precision is ill-defined and being set to 0.0 in labels with no predicted samples. Use `zero_division` parameter to control this behavior.\n",
      "  _warn_prf(average, modifier, f\"{metric.capitalize()} is\", len(result))\n",
      "C:\\Users\\JC INFO\\anaconda3\\envs\\tf-gpu\\lib\\site-packages\\sklearn\\metrics\\_classification.py:1565: UndefinedMetricWarning: Precision is ill-defined and being set to 0.0 in labels with no predicted samples. Use `zero_division` parameter to control this behavior.\n",
      "  _warn_prf(average, modifier, f\"{metric.capitalize()} is\", len(result))\n"
     ]
    }
   ],
   "source": [
    "# Avaliação no conjunto de teste\n",
    "loss, accuracy = model.evaluate(X_test, y_test)\n",
    "print(f\"Test Accuracy: {accuracy:.4f}\")\n",
    "\n",
    "print(\"\\nClassification Report:\")\n",
    "print(classification_report(y_true_classes, y_pred_classes, target_names=le.classes_))\n",
    "\n",
    "# Matriz de Confusão\n",
    "conf_matrix = confusion_matrix(y_true_classes, y_pred_classes)\n",
    "print(\"\\nConfusion Matrix:\")\n",
    "print(conf_matrix)"
   ]
  },
  {
   "cell_type": "markdown",
   "id": "da805efc-0d8e-4404-b0c0-7e753674e0ad",
   "metadata": {},
   "source": [
    "## Step 7 - Visualize Training History\n",
    "\n",
    "We plot training and validation accuracy over epochs to assess model convergence and detect overfitting.\n"
   ]
  },
  {
   "cell_type": "code",
   "execution_count": 23,
   "id": "2a877a7e-6a13-41a1-a1f3-dd0b9bd31e44",
   "metadata": {},
   "outputs": [
    {
     "data": {
      "image/png": "[encoded data removed]",
      "text/plain": [
       "<Figure size 1000x500 with 1 Axes>"
      ]
     },
     "metadata": {},
     "output_type": "display_data"
    }
   ],
   "source": [
    "import matplotlib.pyplot as plt\n",
    "\n",
    "# Plot training & validation accuracy values\n",
    "plt.figure(figsize=(10, 5))\n",
    "plt.plot(history.history['accuracy'], label='Train Accuracy')\n",
    "plt.plot(history.history['val_accuracy'], label='Validation Accuracy')\n",
    "plt.title('Training and Validation Accuracy')\n",
    "plt.xlabel('Epoch')\n",
    "plt.ylabel('Accuracy')\n",
    "plt.legend(loc='lower right')\n",
    "plt.grid(True)\n",
    "plt.show()"
   ]
  },
  {
   "cell_type": "code",
   "execution_count": 25,
   "id": "a3deee45-446b-4acc-af2d-e3c0abb9aafa",
   "metadata": {},
   "outputs": [
    {
     "name": "stdout",
     "output_type": "stream",
     "text": [
      "✅ Modelo salvo como 'mlp_emission_model.h5'\n"
     ]
    }
   ],
   "source": [
    "# Saving the model\n",
    "model.save(\"../models/mlp_model_complete_dataset.keras\")\n",
    "print(\"✅ Modelo salvo como 'mlp_emission_model.h5'\")"
   ]
  },
  {
   "cell_type": "markdown",
   "id": "9142f8be-a589-487e-8ccc-599b0fda2e86",
   "metadata": {},
   "source": [
    "## ✅ Final Summary\n",
    "\n",
    "This notebook implemented an MLP-based classification model to predict the emission source point (E1, E2, E3) using a dense architecture applied to aggregated sensor data.\n",
    "\n",
    "The approach served as a **baseline benchmark**, contrasting with more advanced temporal models like CNN1D and LSTM. The model architecture was well-structured — using 336 input features, appropriate normalization, and categorical encoding — yet it failed to deliver satisfactory performance.\n",
    "\n",
    "### Key Observations:\n",
    "- The MLP struggled to capture the complexity of the emission patterns, likely due to the lack of temporal structure awareness.\n",
    "- All necessary preprocessing and architectural components were correctly applied.\n",
    "- Early saturation in accuracy (~33%) indicated the model defaulted to majority-class prediction, unable to learn true class boundaries.\n",
    "\n",
    "### Methodological Note:\n",
    "> To avoid spending excessive time in a path unlikely to succeed, **no additional hyperparameter tuning or architectural refinements were applied**. This decision was made after verifying that the MLP — by design — does not handle the sequential dependencies critical to the problem.\n",
    "\n",
    "---\n",
    "\n",
    "> ✅ Future work will focus on sequential models such as **CNN1D and LSTM**, which are already proven to perform significantly better for this type of structured temporal data.\n"
   ]
  },
  {
   "cell_type": "code",
   "execution_count": null,
   "id": "007ea871-6765-49db-9e1b-45a35ad29966",
   "metadata": {},
   "outputs": [],
   "source": []
  }
 ],
 "metadata": {
  "kernelspec": {
   "display_name": "Python (tf-gpu)",
   "language": "python",
   "name": "tf-gpu"
  },
  "language_info": {
   "codemirror_mode": {
    "name": "ipython",
    "version": 3
   },
   "file_extension": ".py",
   "mimetype": "text/x-python",
   "name": "python",
   "nbconvert_exporter": "python",
   "pygments_lexer": "ipython3",
   "version": "3.10.8"
  }
 },
 "nbformat": 4,
 "nbformat_minor": 5
}
